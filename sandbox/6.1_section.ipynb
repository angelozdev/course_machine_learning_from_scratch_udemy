{
 "cells": [
  {
   "cell_type": "code",
   "execution_count": null,
   "id": "98b19880",
   "metadata": {},
   "outputs": [],
   "source": [
    "import numpy as np\n",
    "import matplotlib.pyplot as plt\n",
    "import pandas as pd\n",
    "import arff\n",
    "import os\n",
    "from pathlib import Path\n",
    "import logging\n",
    "\n",
    "logging.basicConfig(level=logging.INFO)\n",
    "logger = logging.getLogger(\"6.1_section\")"
   ]
  },
  {
   "cell_type": "code",
   "execution_count": null,
   "id": "b027cece",
   "metadata": {},
   "outputs": [],
   "source": [
    "df = pd.read_csv('../datasets/NSL-KDD/KDDTrain+.txt', header=None)\n",
    "df.head()"
   ]
  },
  {
   "cell_type": "code",
   "execution_count": null,
   "id": "94b7bb4c",
   "metadata": {},
   "outputs": [],
   "source": [
    "import arff\n",
    "\n",
    "def load_arff_dataset(file_path: Path) -> pd.DataFrame:\n",
    "    logger.info(f\"Loading dataset from {file_path}\")\n",
    "\n",
    "    if not file_path.exists():\n",
    "        raise FileNotFoundError(f\"Dataset file not found: {file_path}\")\n",
    "\n",
    "    with file_path.open('r', encoding='utf-8') as file:\n",
    "        arff_data = arff.load(file)\n",
    "        arff_attributes = arff_data['attributes']\n",
    "        columns = [attr[0] for attr in arff_attributes]\n",
    "        data = arff_data['data']\n",
    "\n",
    "    return pd.DataFrame(data, columns=columns)\n",
    "\n",
    "df = load_arff_dataset(Path('../datasets/NSL-KDD/KDDTrain+.arff'))"
   ]
  },
  {
   "cell_type": "code",
   "execution_count": null,
   "id": "a3b062e2",
   "metadata": {},
   "outputs": [],
   "source": [
    "df.info()"
   ]
  },
  {
   "cell_type": "code",
   "execution_count": null,
   "id": "406423bd",
   "metadata": {},
   "outputs": [],
   "source": [
    "df.head()"
   ]
  },
  {
   "cell_type": "code",
   "execution_count": null,
   "id": "67a3d66b",
   "metadata": {},
   "outputs": [],
   "source": [
    "df.describe()"
   ]
  },
  {
   "cell_type": "code",
   "execution_count": null,
   "id": "a935bb2f",
   "metadata": {},
   "outputs": [],
   "source": [
    "print(\"Conteo por clase:\")\n",
    "class_counts = df[\"class\"].value_counts()\n",
    "print(class_counts)\n",
    "\n",
    "print(\"Conteo relativo por clase:\")\n",
    "relative_class_counts = df[\"class\"].value_counts(normalize=True)\n",
    "print(relative_class_counts)\n",
    "\n",
    "plt.figure(figsize=(10, 6))\n",
    "class_counts.plot(kind='bar', color=['skyblue', 'salmon'])\n",
    "plt.title('Distribución de Clases en el Conjunto de Datos')\n",
    "plt.xlabel('Clase')\n",
    "plt.ylabel('Número de Instancias')\n",
    "plt.xticks(rotation=0)\n",
    "plt.grid(axis='y')\n",
    "plt.show()"
   ]
  },
  {
   "cell_type": "code",
   "execution_count": null,
   "id": "eb36fbfb",
   "metadata": {},
   "outputs": [],
   "source": [
    "normal_df = df.loc[df['class'] == 'normal']\n",
    "anomaly_df = df.loc[df['class'] == 'anomaly']\n",
    "\n",
    "variables = ['duration', 'src_bytes', 'dst_bytes', \"hot\", \"num_failed_logins\"]\n",
    "n_variables = len(variables)\n",
    "n_columns = 3\n",
    "n_rows = int(np.ceil(n_variables / n_columns))\n",
    "\n",
    "print(f\"Número de variables a graficar: {n_variables}\")\n",
    "print(f\"Número de columnas: {n_columns}\")\n",
    "print(f\"Número de filas: {n_rows}\")\n",
    "\n",
    "bins = 30\n",
    "fig, axes = plt.subplots(n_rows, n_columns, figsize=(12, 4 * n_rows))\n",
    "for i, var in enumerate(variables):\n",
    "    ax = axes[i // n_columns, i % n_columns]\n",
    "    normal_df[var].hist(ax=ax, label='Normal', alpha=0.5, bins=bins)\n",
    "    anomaly_df[var].hist(ax=ax, label='Anomaly', alpha=0.5, bins=bins)\n",
    "    ax.set_title(f'Distribución de {var}')\n",
    "    ax.set_xlabel(var)\n",
    "    ax.set_ylabel('Densidad')\n",
    "    ax.legend()\n",
    "    ax.grid()\n",
    "    ax.set_yscale('log')\n",
    "plt.tight_layout()\n",
    "plt.show()"
   ]
  },
  {
   "cell_type": "code",
   "execution_count": null,
   "id": "d3cd7df9",
   "metadata": {},
   "outputs": [],
   "source": [
    "print(\"Distribución de protocolos por clase:\")\n",
    "protocol_by_class = df.groupby('class')['protocol_type'].value_counts(normalize=True).unstack()\n",
    "print(protocol_by_class)"
   ]
  },
  {
   "cell_type": "code",
   "execution_count": null,
   "id": "42889346",
   "metadata": {},
   "outputs": [],
   "source": [
    "fig, axes = plt.subplots(1, 2, figsize=(12, 6))\n",
    "normal_protocols = normal_df['protocol_type'].value_counts()\n",
    "anomaly_protocols = anomaly_df['protocol_type'].value_counts()\n",
    "\n",
    "normal_protocols.plot(kind='bar', ax=axes[0], color='skyblue')\n",
    "anomaly_protocols.plot(kind='bar', ax=axes[1], color='salmon')\n",
    "\n",
    "axes[0].set_title('Protocolos en Clase Normal')\n",
    "axes[1].set_title('Protocolos en Clase Anomaly')\n",
    "axes[0].set_xlabel('Protocolo')\n",
    "axes[1].set_xlabel('Protocolo')\n",
    "axes[0].set_ylabel('Número de Instancias')\n",
    "axes[1].set_ylabel('Número de Instancias')\n",
    "axes[0].grid(axis='y')\n",
    "axes[1].grid(axis='y')\n",
    "plt.show()"
   ]
  }
 ],
 "metadata": {
  "kernelspec": {
   "display_name": "ml-course",
   "language": "python",
   "name": "python3"
  },
  "language_info": {
   "codemirror_mode": {
    "name": "ipython",
    "version": 3
   },
   "file_extension": ".py",
   "mimetype": "text/x-python",
   "name": "python",
   "nbconvert_exporter": "python",
   "pygments_lexer": "ipython3",
   "version": "3.13.5"
  }
 },
 "nbformat": 4,
 "nbformat_minor": 5
}
